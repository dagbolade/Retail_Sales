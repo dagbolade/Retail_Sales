{
 "cells": [
  {
   "cell_type": "code",
   "execution_count": 2,
   "id": "initial_id",
   "metadata": {
    "collapsed": true,
    "ExecuteTime": {
     "end_time": "2023-11-03T23:08:22.991422600Z",
     "start_time": "2023-11-03T23:08:22.263546300Z"
    }
   },
   "outputs": [],
   "source": [
    "import pandas as pd\n",
    "import numpy as np\n",
    "import matplotlib.pyplot as plt"
   ]
  },
  {
   "cell_type": "markdown",
   "source": [
    "# 1. Load the excel file as a pandas dataframe"
   ],
   "metadata": {
    "collapsed": false
   },
   "id": "8c6c272b9495b9c9"
  },
  {
   "cell_type": "code",
   "execution_count": 4,
   "outputs": [
    {
     "data": {
      "text/plain": "   Transaction ID       Date Customer ID  Gender  Age Product Category  \\\n0               1 2023-11-24     CUST001    Male   34           Beauty   \n1               2 2023-02-27     CUST002  Female   26         Clothing   \n2               3 2023-01-13     CUST003    Male   50      Electronics   \n3               4 2023-05-21     CUST004    Male   37         Clothing   \n4               5 2023-05-06     CUST005    Male   30           Beauty   \n\n   Quantity  Price per Unit  Total Amount  \n0         3              50           150  \n1         2             500          1000  \n2         1              30            30  \n3         1             500           500  \n4         2              50           100  ",
      "text/html": "<div>\n<style scoped>\n    .dataframe tbody tr th:only-of-type {\n        vertical-align: middle;\n    }\n\n    .dataframe tbody tr th {\n        vertical-align: top;\n    }\n\n    .dataframe thead th {\n        text-align: right;\n    }\n</style>\n<table border=\"1\" class=\"dataframe\">\n  <thead>\n    <tr style=\"text-align: right;\">\n      <th></th>\n      <th>Transaction ID</th>\n      <th>Date</th>\n      <th>Customer ID</th>\n      <th>Gender</th>\n      <th>Age</th>\n      <th>Product Category</th>\n      <th>Quantity</th>\n      <th>Price per Unit</th>\n      <th>Total Amount</th>\n    </tr>\n  </thead>\n  <tbody>\n    <tr>\n      <th>0</th>\n      <td>1</td>\n      <td>2023-11-24</td>\n      <td>CUST001</td>\n      <td>Male</td>\n      <td>34</td>\n      <td>Beauty</td>\n      <td>3</td>\n      <td>50</td>\n      <td>150</td>\n    </tr>\n    <tr>\n      <th>1</th>\n      <td>2</td>\n      <td>2023-02-27</td>\n      <td>CUST002</td>\n      <td>Female</td>\n      <td>26</td>\n      <td>Clothing</td>\n      <td>2</td>\n      <td>500</td>\n      <td>1000</td>\n    </tr>\n    <tr>\n      <th>2</th>\n      <td>3</td>\n      <td>2023-01-13</td>\n      <td>CUST003</td>\n      <td>Male</td>\n      <td>50</td>\n      <td>Electronics</td>\n      <td>1</td>\n      <td>30</td>\n      <td>30</td>\n    </tr>\n    <tr>\n      <th>3</th>\n      <td>4</td>\n      <td>2023-05-21</td>\n      <td>CUST004</td>\n      <td>Male</td>\n      <td>37</td>\n      <td>Clothing</td>\n      <td>1</td>\n      <td>500</td>\n      <td>500</td>\n    </tr>\n    <tr>\n      <th>4</th>\n      <td>5</td>\n      <td>2023-05-06</td>\n      <td>CUST005</td>\n      <td>Male</td>\n      <td>30</td>\n      <td>Beauty</td>\n      <td>2</td>\n      <td>50</td>\n      <td>100</td>\n    </tr>\n  </tbody>\n</table>\n</div>"
     },
     "execution_count": 4,
     "metadata": {},
     "output_type": "execute_result"
    }
   ],
   "source": [
    "# Load the excel file as a pandas dataframe\n",
    "df = pd.read_excel('retail_sales_dataset.xlsx')\n",
    "df.head()"
   ],
   "metadata": {
    "collapsed": false,
    "ExecuteTime": {
     "end_time": "2023-11-03T23:16:28.748267400Z",
     "start_time": "2023-11-03T23:16:28.316280600Z"
    }
   },
   "id": "caf18eaa5d29c3f5"
  },
  {
   "cell_type": "markdown",
   "source": [
    "Data Cleaning and Preparation"
   ],
   "metadata": {
    "collapsed": false
   },
   "id": "5ecdf0b4db2d6068"
  },
  {
   "cell_type": "code",
   "execution_count": 5,
   "outputs": [
    {
     "data": {
      "text/plain": "Transaction ID      0\nDate                0\nCustomer ID         0\nGender              0\nAge                 0\nProduct Category    0\nQuantity            0\nPrice per Unit      0\nTotal Amount        0\ndtype: int64"
     },
     "execution_count": 5,
     "metadata": {},
     "output_type": "execute_result"
    }
   ],
   "source": [
    "# Check for missing values\n",
    "df.isnull().sum()\n"
   ],
   "metadata": {
    "collapsed": false,
    "ExecuteTime": {
     "end_time": "2023-11-03T23:19:10.026680800Z",
     "start_time": "2023-11-03T23:19:10.009782900Z"
    }
   },
   "id": "7821148adb3b0f0b"
  },
  {
   "cell_type": "code",
   "execution_count": 6,
   "outputs": [
    {
     "data": {
      "text/plain": "0"
     },
     "execution_count": 6,
     "metadata": {},
     "output_type": "execute_result"
    }
   ],
   "source": [
    "# Check for duplicate rows\n",
    "df.duplicated().sum()\n"
   ],
   "metadata": {
    "collapsed": false,
    "ExecuteTime": {
     "end_time": "2023-11-03T23:19:21.398645600Z",
     "start_time": "2023-11-03T23:19:21.373643100Z"
    }
   },
   "id": "f446e5b0c67f914e"
  },
  {
   "cell_type": "markdown",
   "source": [
    "# So no missing values and no duplicate rows, so we can proceed with the analysis"
   ],
   "metadata": {
    "collapsed": false
   },
   "id": "ceca4f5a34d93a1a"
  },
  {
   "cell_type": "markdown",
   "source": [
    "### 2. Calculate the total sales, average order value and profit margin"
   ],
   "metadata": {
    "collapsed": false
   },
   "id": "1511afeb0be4bb63"
  },
  {
   "cell_type": "code",
   "execution_count": 7,
   "outputs": [
    {
     "name": "stdout",
     "output_type": "stream",
     "text": [
      "Total Sales:  456000\n"
     ]
    }
   ],
   "source": [
    "# Calculate the total sales\n",
    "total_sales = df['Total Amount'].sum()\n",
    "print('Total Sales: ', total_sales)\n"
   ],
   "metadata": {
    "collapsed": false,
    "ExecuteTime": {
     "end_time": "2023-11-03T23:23:49.656780900Z",
     "start_time": "2023-11-03T23:23:49.644227200Z"
    }
   },
   "id": "714165ddb7a7ecd0"
  },
  {
   "cell_type": "code",
   "execution_count": 8,
   "outputs": [
    {
     "name": "stdout",
     "output_type": "stream",
     "text": [
      "Average Order Value:  456.0\n"
     ]
    }
   ],
   "source": [
    "# Calculate the average order value\n",
    "avg_order_value = df['Total Amount'].mean()\n",
    "print('Average Order Value: ', avg_order_value)\n"
   ],
   "metadata": {
    "collapsed": false,
    "ExecuteTime": {
     "end_time": "2023-11-03T23:24:18.154240400Z",
     "start_time": "2023-11-03T23:24:18.143140700Z"
    }
   },
   "id": "c2fe1e4460b47cec"
  },
  {
   "cell_type": "code",
   "execution_count": null,
   "outputs": [],
   "source": [
    "# Calculate the profit margin\n",
    "df['Profit'] = df['Total Amount'] - df['Total Cost']"
   ],
   "metadata": {
    "collapsed": false
   },
   "id": "d78cb090458b6d25"
  }
 ],
 "metadata": {
  "kernelspec": {
   "display_name": "Python 3",
   "language": "python",
   "name": "python3"
  },
  "language_info": {
   "codemirror_mode": {
    "name": "ipython",
    "version": 2
   },
   "file_extension": ".py",
   "mimetype": "text/x-python",
   "name": "python",
   "nbconvert_exporter": "python",
   "pygments_lexer": "ipython2",
   "version": "2.7.6"
  }
 },
 "nbformat": 4,
 "nbformat_minor": 5
}
